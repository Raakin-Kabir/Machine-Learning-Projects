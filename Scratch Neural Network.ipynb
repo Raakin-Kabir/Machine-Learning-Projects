{
 "cells": [
  {
   "cell_type": "code",
   "execution_count": 6,
   "id": "cf24fcdf",
   "metadata": {},
   "outputs": [],
   "source": [
    "import pandas as pd\n",
    "import math\n",
    "import random\n",
    "import numpy as np\n",
    "from matplotlib import pyplot as plt"
   ]
  },
  {
   "cell_type": "code",
   "execution_count": 7,
   "id": "4929b6d1",
   "metadata": {},
   "outputs": [],
   "source": [
    "def relu(x): return x if x > 0 else 0.0\n",
    "def relu_derivative(x): return 1.0 if x > 0 else 0.0\n",
    "def sigmoid(t): return 1 / (1 + math.exp(-t))\n",
    "def derivative_sigmoid(sigx): return (sigx) * (1 - sigx)\n",
    "def dot(x, y):\n",
    "    x = np.asarray(x)\n",
    "    y = np.asarray(y)\n",
    "    assert x.shape == y.shape, \"Mismatch of shapes: \" + str(x) + \" \" + str(y) + \" \" + str(x.shape) + \" \" + str(y.shape)\n",
    "    assert x.ndim == 1, \"Not a vector\"\n",
    "    #print(\"SUCCESS AT DOT PRODUCT BOi\")\n",
    "    return sum([m*n for m, n in zip(x, y)])\n",
    "\n",
    "def feed_forward(network, inp, activation):\n",
    "    outputs = list()\n",
    "    inp2 = inp.copy()\n",
    "    inp2.append(1)\n",
    "    outputs.append(inp2)\n",
    "    index = 0\n",
    "    for layer in network:\n",
    "        layer_list = list()\n",
    "        for weight_set in layer:\n",
    "            layer_list.append(activation(dot(weight_set, outputs[-1])))\n",
    "        if index == len(network) - 1:\n",
    "            outputs.append((layer_list))\n",
    "        else:\n",
    "            layer_list_copy = layer_list.copy()\n",
    "            layer_list_copy.append(1)\n",
    "            outputs.append((layer_list_copy))\n",
    "        index += 1\n",
    "                           \n",
    "    return outputs"
   ]
  },
  {
   "cell_type": "code",
   "execution_count": 8,
   "id": "2ddedf52",
   "metadata": {},
   "outputs": [],
   "source": [
    "def sqerror_gradient(networks, inp, correct_output, activation, derivative):\n",
    "    outputs = feed_forward(network, inp, activation)\n",
    "    node_errors, weight_gradients = list(), list()\n",
    "    for layer in range(len(outputs) - 1, -1, -1): # going backwards\n",
    "        if layer == len(outputs) - 1: # the output layer\n",
    "            currentLayerError = list()\n",
    "            n = 0\n",
    "            for node in outputs[layer]:\n",
    "                assert n <= len(correct_output) - 1, print(\"BOI: \", correct_output, n, outputs)\n",
    "                currentLayerError.append((node - correct_output[n]) * derivative(node))\n",
    "                n += 1\n",
    "            #print(\"ERROR last layer\", currentLayerError)\n",
    "            node_errors.append(currentLayerError)\n",
    "            \n",
    "            currentLayerGradient = list()\n",
    "            output_node = 0\n",
    "            for weight_set in networks[layer-1]:\n",
    "                input_node = 0\n",
    "                weight_set_gradient = list()\n",
    "                for weights in weight_set:\n",
    "                    weight_set_gradient.append(node_errors[-1][output_node] * outputs[layer-1][input_node])\n",
    "                    input_node += 1\n",
    "                output_node += 1\n",
    "                currentLayerGradient.append(weight_set_gradient)\n",
    "            weight_gradients.append(currentLayerGradient)\n",
    "        \n",
    "        elif layer >= 1:\n",
    "            currentLayerError = list()\n",
    "            n = 0\n",
    "            for node in outputs[layer]:\n",
    "                weight_sum = 0\n",
    "                if n < len(outputs[layer]) - 1:\n",
    "                    m = 0\n",
    "                    for weight_set in networks[layer]:\n",
    "                        weight_sum += weight_set[n] * node_errors[-1][m]\n",
    "                        m += 1\n",
    "                    currentLayerError.append(weight_sum * derivative(node))\n",
    "                n += 1\n",
    "            #print(\"ERROR layer %s: %s\" % (layer, currentLayerError))\n",
    "            node_errors.append(currentLayerError)\n",
    "            \n",
    "            currentLayerGradient = list()\n",
    "            output_node = 0\n",
    "            for weight_set in networks[layer-1]:\n",
    "                input_node = 0\n",
    "                weight_set_gradient = list()\n",
    "                for weights in weight_set:\n",
    "                    weight_set_gradient.append(node_errors[-1][output_node] * outputs[layer-1][input_node])\n",
    "                    input_node += 1\n",
    "                output_node += 1\n",
    "                currentLayerGradient.append(weight_set_gradient)\n",
    "            weight_gradients.append(currentLayerGradient)\n",
    "    weight_gradients.reverse()\n",
    "    return weight_gradients"
   ]
  },
  {
   "cell_type": "code",
   "execution_count": 13,
   "id": "06ed1cb4",
   "metadata": {},
   "outputs": [],
   "source": [
    "def train(network, inp, out, activation, derivative, learning_rate = 0.1, epoch = 100):\n",
    "    for i in range(epoch):\n",
    "        for current_input, output in zip(inp, out):\n",
    "            weight_gradients = sqerror_gradient(network, current_input, output, activation, derivative)\n",
    "            for layer in range(len(network)):\n",
    "                for node in range(len(network[layer])):\n",
    "                    for weight in range(len(network[layer][node])):\n",
    "                        network[layer][node][weight] -= learning_rate * weight_gradients[layer][node][weight]\n",
    "        #print(\"EPOCH: %s\" % (i,))\n",
    "    return network\n",
    "                    "
   ]
  },
  {
   "cell_type": "code",
   "execution_count": 14,
   "id": "a820b440",
   "metadata": {},
   "outputs": [],
   "source": [
    "def build_network(dimension, INPUT_NUM):\n",
    "    layer_num = 0\n",
    "    network = list()\n",
    "    for num_nodes in dimension:\n",
    "        layer = list()\n",
    "        for i in range(num_nodes):\n",
    "            if layer_num == 0:\n",
    "                layer.append([random.random() for _ in range(INPUT_NUM)])\n",
    "            else:\n",
    "                layer.append([random.random() for _ in range(len(network[-1]) + 1)])\n",
    "        network.append(layer)\n",
    "        layer_num += 1\n",
    "    return network"
   ]
  },
  {
   "cell_type": "code",
   "execution_count": 17,
   "id": "36a4dd53",
   "metadata": {},
   "outputs": [],
   "source": [
    "def testing(network, inp, out, activation):\n",
    "    success = 0\n",
    "    vector_round = np.vectorize(round)\n",
    "    for a, b in zip(inp, out):\n",
    "        if vector_round(feed_forward(network, a, activation)[-1]) == b: success += 1\n",
    "    return (success / len(inp))"
   ]
  },
  {
   "cell_type": "code",
   "execution_count": 18,
   "id": "dcd1e85c",
   "metadata": {},
   "outputs": [
    {
     "name": "stdout",
     "output_type": "stream",
     "text": [
      "Accuracy: 1.0\n"
     ]
    }
   ],
   "source": [
    "# TESTING FOR \"AND\" operator\n",
    "inp = [[1, 1], [1, 0], [0, 1], [0, 0]]\n",
    "out = [[1], [0], [0], [0]]\n",
    "network = build_network([3, 2, 1], 3)\n",
    "network = train(network, inp, out, sigmoid, derivative_sigmoid, 1, 500)\n",
    "print(\"Accuracy: %s\" % (testing(network, inp, out, sigmoid),))"
   ]
  },
  {
   "cell_type": "code",
   "execution_count": 19,
   "id": "6d305036",
   "metadata": {},
   "outputs": [
    {
     "name": "stdout",
     "output_type": "stream",
     "text": [
      "Accuracy: 1.0\n"
     ]
    }
   ],
   "source": [
    "# TESTING FOR \"OR\" operator\n",
    "inp = [[1, 1], [1, 0], [0, 1], [0, 0]]\n",
    "out = [[1], [1], [1], [0]]\n",
    "network = build_network([3, 2, 1], 3)\n",
    "network = train(network, inp, out, sigmoid, derivative_sigmoid, 1, 500)\n",
    "print(\"Accuracy: %s\" % (testing(network, inp, out, sigmoid),))"
   ]
  },
  {
   "cell_type": "code",
   "execution_count": 27,
   "id": "b7799ec0",
   "metadata": {},
   "outputs": [
    {
     "name": "stdout",
     "output_type": "stream",
     "text": [
      "Accuracy: 1.0\n"
     ]
    }
   ],
   "source": [
    "# TESTING FOR \"XOR\" operator\n",
    "inp = [[1, 1], [1, 0], [0, 1], [0, 0]]\n",
    "out = [[0], [1], [1], [0]]\n",
    "network = build_network([3, 2, 1], 3)\n",
    "network = train(network, inp, out, sigmoid, derivative_sigmoid, 1, 5000)\n",
    "print(\"Accuracy: %s\" % (testing(network, inp, out, sigmoid),))"
   ]
  },
  {
   "cell_type": "code",
   "execution_count": 28,
   "id": "e2a23abf",
   "metadata": {},
   "outputs": [
    {
     "name": "stdout",
     "output_type": "stream",
     "text": [
      "Accuracy: 1.0\n"
     ]
    }
   ],
   "source": [
    "# TESTING FOR \"NAND\" operator\n",
    "inp = [[1, 1], [1, 0], [0, 1], [0, 0]]\n",
    "out = [[0], [1], [1], [1]]\n",
    "network = build_network([3, 2, 1], 3)\n",
    "network = train(network, inp, out, sigmoid, derivative_sigmoid, 1, 5000)\n",
    "print(\"Accuracy: %s\" % (testing(network, inp, out, sigmoid),))"
   ]
  },
  {
   "cell_type": "code",
   "execution_count": 30,
   "id": "ca239bcf",
   "metadata": {},
   "outputs": [
    {
     "name": "stdout",
     "output_type": "stream",
     "text": [
      "Accuracy: 1.0\n"
     ]
    }
   ],
   "source": [
    "# TESTING FOR \"NOR\" operator\n",
    "inp = [[1, 1], [1, 0], [0, 1], [0, 0]]\n",
    "out = [[0], [0], [0], [1]]\n",
    "network = build_network([3, 2, 1], 3)\n",
    "network = train(network, inp, out, sigmoid, derivative_sigmoid, 1, 5000)\n",
    "print(\"Accuracy: %s\" % (testing(network, inp, out, sigmoid),))"
   ]
  },
  {
   "cell_type": "code",
   "execution_count": 31,
   "id": "47934da0",
   "metadata": {},
   "outputs": [
    {
     "name": "stdout",
     "output_type": "stream",
     "text": [
      "Accuracy: 1.0\n"
     ]
    }
   ],
   "source": [
    "# TESTING FOR \"XNOR\" operator\n",
    "inp = [[1, 1], [1, 0], [0, 1], [0, 0]]\n",
    "out = [[1], [0], [0], [1]]\n",
    "network = build_network([3, 2, 1], 3)\n",
    "network = train(network, inp, out, sigmoid, derivative_sigmoid, 1, 5000)\n",
    "print(\"Accuracy: %s\" % (testing(network, inp, out, sigmoid),))"
   ]
  }
 ],
 "metadata": {
  "kernelspec": {
   "display_name": "Python 3 (ipykernel)",
   "language": "python",
   "name": "python3"
  },
  "language_info": {
   "codemirror_mode": {
    "name": "ipython",
    "version": 3
   },
   "file_extension": ".py",
   "mimetype": "text/x-python",
   "name": "python",
   "nbconvert_exporter": "python",
   "pygments_lexer": "ipython3",
   "version": "3.9.12"
  }
 },
 "nbformat": 4,
 "nbformat_minor": 5
}
